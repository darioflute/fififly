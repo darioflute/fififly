{
 "cells": [
  {
   "cell_type": "markdown",
   "id": "b5fba836",
   "metadata": {},
   "source": [
    "# Notebook to test the reading of an AOR"
   ]
  },
  {
   "cell_type": "code",
   "execution_count": 127,
   "id": "c5791156",
   "metadata": {},
   "outputs": [],
   "source": [
    "from xml.etree.ElementTree import ElementTree as ET\n",
    "\n",
    "aorfile = '../test/09_0158.aor'\n",
    "tree = ET(file=aorfile)\n",
    "vector = tree.find('list/vector')\n",
    "# Extract Target and Instrument from each AOR\n",
    "targets = [item.text for item in vector.findall('Request/target/name')]\n",
    "instruments = [item.text for item in vector.findall('Request/instrument/data/InstrumentName')]"
   ]
  },
  {
   "cell_type": "code",
   "execution_count": 128,
   "id": "3a298937",
   "metadata": {},
   "outputs": [
    {
     "name": "stdout",
     "output_type": "stream",
     "text": [
      "This proposal aims to characterize the properties of the neutral gas and HII regions in a sample of nearby, clumpy, turbulent galaxies. The properties of these galaxies most closely resemble those of z ~ 1 – 3 galaxies, when star formation activity was at its peak. The galaxies selected for this proposal are from the DYNAMO sample of galaxies from Green et al. (2010). Their disks have high internal velocity dispersions and high gas mass fractions much like z ~ 1 – 3 galaxies, and have star formation rates ranging from 10 to 80 solar masses per year. This gives us a unique opportunity to study the neutral interstellar medium in this turbulent, clumpy environment, without the difficulties that are encountered in high redshift studies. We will use FIFI-LS to observe the 157.7 μm [CII] and 88 μm [OIII]/63 μm [OI] fine-structure lines, and use HAWC+ observations in band C, D, and E to derive the total far-infrared luminosities and estimate the FIR dust temperatures. We will use the combination of [CII] and FIR observations to do photodissociation region modeling and derive the gas densities and far-ultraviolet radiation field strengths, and [OIII] to study the properties of HII regions. We will also derive star formation rates from the total FIR luminosity and use these to test [CII], [OIII], and[OI] as star formation rate tracers. These lines are observable by instruments such as ALMA at higher redshift and are potentially powerful probes of the ISM and tracers or star formation. This proposal will fill a void in the existing multi-wavelength studies of DYNAMO galaxies which include observations from ALMA, NOEMA, Keck, Gemini, and HST.\n"
     ]
    }
   ],
   "source": [
    "# Abstract\n",
    "abstract = tree.find('list/ProposalInfo/ProposalAbstract')\n",
    "print(abstract.text)"
   ]
  },
  {
   "cell_type": "code",
   "execution_count": 9,
   "id": "8d748f7e",
   "metadata": {},
   "outputs": [],
   "source": [
    "import numpy as np\n",
    "instruments = np.array(instruments)\n",
    "idx = instruments == 'FIFI-LS'"
   ]
  },
  {
   "cell_type": "code",
   "execution_count": 10,
   "id": "387b6470",
   "metadata": {},
   "outputs": [
    {
     "data": {
      "text/plain": [
       "array([ True,  True,  True,  True,  True,  True, False, False, False,\n",
       "       False, False, False, False, False, False, False, False, False,\n",
       "       False, False, False, False, False, False, False, False, False,\n",
       "        True])"
      ]
     },
     "execution_count": 10,
     "metadata": {},
     "output_type": "execute_result"
    }
   ],
   "source": [
    "idx"
   ]
  },
  {
   "cell_type": "markdown",
   "id": "c3154553",
   "metadata": {},
   "source": [
    "# Flight plan table"
   ]
  },
  {
   "cell_type": "code",
   "execution_count": 217,
   "id": "47507198",
   "metadata": {},
   "outputs": [
    {
     "name": "stdout",
     "output_type": "stream",
     "text": [
      "202105_FI_MAXINE 08:20:22 2021-06-05T03:50:00Z 2021-06-05T12:10:21Z\n",
      "1 & Departure &  &  & 03:50:00 & 00:02 & 10000 ft\\\\\\n\n",
      "2 & Climb &  &  & 03:53:44 & 00:08 & 35000 ft\\\\\\n\n",
      "3 & Climb &  &  & 04:03:41 & 00:15 & 36000 ft\\\\\\n\n",
      "4 & Setup &  & 46.7-46.6 & 04:19:50 & 00:30 & 38000 ft\\\\\\n\n",
      "5 & m83-1 & 70_0808 & 27.8-27.8 & 04:49:57 & 00:49 & 39000 ft\\\\\\n\n",
      "6 & IRAS 12112+0305 & 08_0095 & 53.7-42.8 & 05:40:05 & 01:17 & 39000/35/41000 ft\\\\\\n\n",
      "7 & NGC6946_Nuc & 09_0198 & 33.1-44.5 & 07:01:42 & 01:43 & 41000/70/43000 ft\\\\\\n\n",
      "8 & Sgr A & 71_0024 & 29.9-31.0 & 08:50:53 & 00:50 & 43000 ft\\\\\\n\n",
      "9 & Mrk 0290 & 08_0226 & 55.3-42.1 & 09:45:13 & 01:39 & 43000 ft\\\\\\n\n",
      "10 & Arrival &  &  & 11:26:10 & 00:44 & 43000 ft\\\\\\n\n",
      " & Landing &  &  & 12:10:21 &  & 0 ft\\\\\\n\n",
      " & Total flight time &  &  &  & 08:20:22 & \\\\\\n\n"
     ]
    }
   ],
   "source": [
    "\n",
    "import xml.etree.ElementTree as ET\n",
    "aorfile = '../test/202105_FI_MAXINE_WX12.misxml'\n",
    "tree = ET.parse(aorfile)\n",
    "root = tree.getroot()\n",
    "\n",
    "#root.tag\n",
    "#root.attrib\n",
    "\n",
    "for flightplan in root.iter('FlightPlan'):\n",
    "    flightTime = flightplan.attrib['FltTime']\n",
    "    flightName = flightplan.attrib['Id']\n",
    "    departure = flightplan.attrib['DepartureTime']\n",
    "    arrival = flightplan.attrib['ArrivalTime']\n",
    "    print(flightName, flightTime, departure, arrival)\n",
    "\n",
    "table = ''\n",
    "fmt = '{0:s} & {1:s} & {2:s} & {3:s} & {4:s} & {5:s} & {6:s}\\\\\\\\\\\\n'\n",
    "for leg in root.iter('Leg'):\n",
    "    name = leg.find('Name').text\n",
    "    start = leg.find('Start').text\n",
    "    duration = leg.find('Duration').text\n",
    "    altitude = leg.find('Alt').text\n",
    "    planid = leg.find('ObsPlanID')\n",
    "    if planid is None:\n",
    "        planid = ''\n",
    "    else:\n",
    "        planid = planid.text\n",
    "        if planid is None:\n",
    "            planid = ''\n",
    "    elevation = leg.find('Elev')\n",
    "    if elevation is not None:\n",
    "        elstart = elevation.attrib['start']\n",
    "        elend = elevation.attrib['end']\n",
    "        elevation = elstart+'-'+elend\n",
    "    else:\n",
    "        elend = ''\n",
    "        elstart=''\n",
    "        elevation = ''\n",
    "    ID = leg.attrib['id']\n",
    "    ftype = leg.attrib['type']\n",
    "    if ftype == 'Absolute':\n",
    "        name = 'Climb'\n",
    "    elif ftype == 'Arrival':\n",
    "        name = 'Arrival'\n",
    "    line = fmt.format(ID, name, planid, elevation, start, duration[0:5], altitude)\n",
    "    print(line)\n",
    "    \n",
    "ID = planid = elevation = duration = ''\n",
    "name = 'Landing'\n",
    "start = arrival[11:19]\n",
    "altitude = '0 ft'\n",
    "line = fmt.format(ID, name, planid, elevation, start, duration, altitude)\n",
    "print(line)\n",
    "name = 'Total flight time'\n",
    "start = altitude = ''\n",
    "duration = flightTime\n",
    "line = fmt.format(ID, name, planid, elevation, start, duration, altitude)\n",
    "print(line)\n",
    "    \n",
    "    \n",
    "# Save in a latex fi"
   ]
  },
  {
   "cell_type": "code",
   "execution_count": 148,
   "id": "73524f2d",
   "metadata": {},
   "outputs": [],
   "source": [
    "legs = tree.find('FlightPlan/Legs')"
   ]
  },
  {
   "cell_type": "markdown",
   "id": "48a8ee22",
   "metadata": {},
   "source": [
    "## Table of legs"
   ]
  },
  {
   "cell_type": "code",
   "execution_count": 138,
   "id": "3316569c",
   "metadata": {},
   "outputs": [
    {
     "ename": "AttributeError",
     "evalue": "'NoneType' object has no attribute 'findall'",
     "output_type": "error",
     "traceback": [
      "\u001b[0;31m---------------------------------------------------------------------------\u001b[0m",
      "\u001b[0;31mAttributeError\u001b[0m                            Traceback (most recent call last)",
      "\u001b[0;32m<ipython-input-138-9102d49b7e86>\u001b[0m in \u001b[0;36m<module>\u001b[0;34m\u001b[0m\n\u001b[0;32m----> 1\u001b[0;31m \u001b[0mlegs\u001b[0m \u001b[0;34m=\u001b[0m \u001b[0;34m[\u001b[0m\u001b[0mitem\u001b[0m \u001b[0;32mfor\u001b[0m \u001b[0mitem\u001b[0m \u001b[0;32min\u001b[0m \u001b[0mflightplan\u001b[0m\u001b[0;34m.\u001b[0m\u001b[0mfindall\u001b[0m\u001b[0;34m(\u001b[0m\u001b[0;34m'Legs'\u001b[0m\u001b[0;34m)\u001b[0m\u001b[0;34m]\u001b[0m\u001b[0;34m\u001b[0m\u001b[0;34m\u001b[0m\u001b[0m\n\u001b[0m",
      "\u001b[0;31mAttributeError\u001b[0m: 'NoneType' object has no attribute 'findall'"
     ]
    }
   ],
   "source": [
    "legs = [item for item in flightplan.findall('Legs')]"
   ]
  },
  {
   "cell_type": "code",
   "execution_count": 137,
   "id": "b18c2c96",
   "metadata": {},
   "outputs": [
    {
     "ename": "TypeError",
     "evalue": "element indices must be integers",
     "output_type": "error",
     "traceback": [
      "\u001b[0;31m---------------------------------------------------------------------------\u001b[0m",
      "\u001b[0;31mTypeError\u001b[0m                                 Traceback (most recent call last)",
      "\u001b[0;32m<ipython-input-137-4a95431bd989>\u001b[0m in \u001b[0;36m<module>\u001b[0;34m\u001b[0m\n\u001b[0;32m----> 1\u001b[0;31m \u001b[0mlegs\u001b[0m\u001b[0;34m[\u001b[0m\u001b[0;36m0\u001b[0m\u001b[0;34m]\u001b[0m\u001b[0;34m[\u001b[0m\u001b[0;34m'Leg'\u001b[0m\u001b[0;34m]\u001b[0m\u001b[0;34m\u001b[0m\u001b[0;34m\u001b[0m\u001b[0m\n\u001b[0m",
      "\u001b[0;31mTypeError\u001b[0m: element indices must be integers"
     ]
    }
   ],
   "source": []
  },
  {
   "cell_type": "code",
   "execution_count": null,
   "id": "9589328d",
   "metadata": {},
   "outputs": [],
   "source": []
  }
 ],
 "metadata": {
  "kernelspec": {
   "display_name": "Python 3",
   "language": "python",
   "name": "python3"
  },
  "language_info": {
   "codemirror_mode": {
    "name": "ipython",
    "version": 3
   },
   "file_extension": ".py",
   "mimetype": "text/x-python",
   "name": "python",
   "nbconvert_exporter": "python",
   "pygments_lexer": "ipython3",
   "version": "3.7.10"
  }
 },
 "nbformat": 4,
 "nbformat_minor": 5
}
