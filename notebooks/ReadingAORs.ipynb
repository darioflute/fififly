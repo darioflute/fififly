{
 "cells": [
  {
   "cell_type": "markdown",
   "id": "e4a499ea",
   "metadata": {},
   "source": [
    "# Notebook to test the reading of an AOR"
   ]
  },
  {
   "cell_type": "code",
   "execution_count": 127,
   "id": "5f6e9973",
   "metadata": {},
   "outputs": [],
   "source": [
    "from xml.etree.ElementTree import ElementTree as ET\n",
    "\n",
    "aorfile = '../test/09_0158.aor'\n",
    "tree = ET(file=aorfile)\n",
    "vector = tree.find('list/vector')\n",
    "# Extract Target and Instrument from each AOR\n",
    "targets = [item.text for item in vector.findall('Request/target/name')]\n",
    "instruments = [item.text for item in vector.findall('Request/instrument/data/InstrumentName')]"
   ]
  },
  {
   "cell_type": "code",
   "execution_count": 128,
   "id": "0a6ef456",
   "metadata": {},
   "outputs": [
    {
     "name": "stdout",
     "output_type": "stream",
     "text": [
      "This proposal aims to characterize the properties of the neutral gas and HII regions in a sample of nearby, clumpy, turbulent galaxies. The properties of these galaxies most closely resemble those of z ~ 1 – 3 galaxies, when star formation activity was at its peak. The galaxies selected for this proposal are from the DYNAMO sample of galaxies from Green et al. (2010). Their disks have high internal velocity dispersions and high gas mass fractions much like z ~ 1 – 3 galaxies, and have star formation rates ranging from 10 to 80 solar masses per year. This gives us a unique opportunity to study the neutral interstellar medium in this turbulent, clumpy environment, without the difficulties that are encountered in high redshift studies. We will use FIFI-LS to observe the 157.7 μm [CII] and 88 μm [OIII]/63 μm [OI] fine-structure lines, and use HAWC+ observations in band C, D, and E to derive the total far-infrared luminosities and estimate the FIR dust temperatures. We will use the combination of [CII] and FIR observations to do photodissociation region modeling and derive the gas densities and far-ultraviolet radiation field strengths, and [OIII] to study the properties of HII regions. We will also derive star formation rates from the total FIR luminosity and use these to test [CII], [OIII], and[OI] as star formation rate tracers. These lines are observable by instruments such as ALMA at higher redshift and are potentially powerful probes of the ISM and tracers or star formation. This proposal will fill a void in the existing multi-wavelength studies of DYNAMO galaxies which include observations from ALMA, NOEMA, Keck, Gemini, and HST.\n"
     ]
    }
   ],
   "source": [
    "# Abstract\n",
    "abstract = tree.find('list/ProposalInfo/ProposalAbstract')\n",
    "print(abstract.text)"
   ]
  },
  {
   "cell_type": "code",
   "execution_count": 9,
   "id": "2d46818c",
   "metadata": {},
   "outputs": [],
   "source": [
    "import numpy as np\n",
    "instruments = np.array(instruments)\n",
    "idx = instruments == 'FIFI-LS'"
   ]
  },
  {
   "cell_type": "code",
   "execution_count": 10,
   "id": "f2599667",
   "metadata": {},
   "outputs": [
    {
     "data": {
      "text/plain": [
       "array([ True,  True,  True,  True,  True,  True, False, False, False,\n",
       "       False, False, False, False, False, False, False, False, False,\n",
       "       False, False, False, False, False, False, False, False, False,\n",
       "        True])"
      ]
     },
     "execution_count": 10,
     "metadata": {},
     "output_type": "execute_result"
    }
   ],
   "source": [
    "idx"
   ]
  },
  {
   "cell_type": "markdown",
   "id": "a5ffd8b2",
   "metadata": {},
   "source": [
    "# Flight plan table"
   ]
  },
  {
   "cell_type": "code",
   "execution_count": 4,
   "id": "c0741f98",
   "metadata": {},
   "outputs": [
    {
     "name": "stdout",
     "output_type": "stream",
     "text": [
      "202105_FI_MAXINE 08:26:53 2021-06-05T03:45:00Z 2021-06-05T12:11:52Z\n",
      "1 & Departure &  &  & 03:45:00 & 00:02 & 10000 ft\\\\\\n\n",
      "2 & Climb &  &  & 03:48:46 & 00:08 & 35000 ft\\\\\\n\n",
      "3 & Climb &  &  & 03:58:38 & 00:14 & 36000 ft\\\\\\n\n",
      "4 & Setup &  & 24.3-25.0 & 04:14:20 & 00:30 & 38000 ft\\\\\\n\n",
      "5 & m83-1 & 70\\_0808 & 28.3-28.4 & 04:44:23 & 00:53 & 39000 ft\\\\\\n\n",
      "6 & IRAS 12112+0305 & 08\\_0095 & 54.4-43.4 & 05:38:31 & 01:17 & 39000/35/41000 ft\\\\\\n\n",
      "7 & NGC6946_Nuc & 09\\_0198 & 32.6-44.5 & 07:00:08 & 01:45 & 41000/75/43000 ft\\\\\\n\n",
      "8 & Sgr A & 71\\_0024 & 30.3-31.1 & 08:51:17 & 00:54 & 43000 ft\\\\\\n\n",
      "9 & Mrk 0290 & 08\\_0226 & 54.8-42.1 & 09:49:34 & 01:35 & 43000 ft\\\\\\n\n",
      "10 & Arrival &  &  & 11:26:29 & 00:45 & 43000 ft\\\\\\n\n",
      " & Landing &  &  & 12:11:52 &  & 0 ft\\\\\\n\n",
      " & Total flight time &  &  &  & 08:26:53 & \\\\\\n\n"
     ]
    }
   ],
   "source": [
    "\n",
    "import xml.etree.ElementTree as ET\n",
    "aorfile = '../test/202105_FI_MAXINE_WX36.misxml'\n",
    "tree = ET.parse(aorfile)\n",
    "root = tree.getroot()\n",
    "\n",
    "#root.tag\n",
    "#root.attrib\n",
    "\n",
    "for flightplan in root.iter('FlightPlan'):\n",
    "    flightTime = flightplan.attrib['FltTime']\n",
    "    flightName = flightplan.attrib['Id']\n",
    "    departure = flightplan.attrib['DepartureTime']\n",
    "    arrival = flightplan.attrib['ArrivalTime']\n",
    "    print(flightName, flightTime, departure, arrival)\n",
    "\n",
    "table = ''\n",
    "fmt = '{0:s} & {1:s} & {2:s} & {3:s} & {4:s} & {5:s} & {6:s}\\\\\\\\\\\\n'\n",
    "for leg in root.iter('Leg'):\n",
    "    name = leg.find('Name').text\n",
    "    start = leg.find('Start').text\n",
    "    duration = leg.find('Duration').text\n",
    "    altitude = leg.find('Alt').text\n",
    "    planid = leg.find('ObsPlanID')\n",
    "    if planid is None:\n",
    "        planid = ''\n",
    "    else:\n",
    "        planid = str(planid.text)\n",
    "        planid = planid.replace('_','\\_')\n",
    "        if planid is None:\n",
    "            planid = ''\n",
    "    elevation = leg.find('Elev')\n",
    "    if elevation is not None:\n",
    "        elstart = elevation.attrib['start']\n",
    "        elend = elevation.attrib['end']\n",
    "        elevation = elstart+'-'+elend\n",
    "    else:\n",
    "        elend = ''\n",
    "        elstart=''\n",
    "        elevation = ''\n",
    "    ID = leg.attrib['id']\n",
    "    ftype = leg.attrib['type']\n",
    "    if ftype == 'Absolute':\n",
    "        name = 'Climb'\n",
    "    elif ftype == 'Arrival':\n",
    "        name = 'Arrival'\n",
    "    planid = planid.replace('None','')\n",
    "    line = fmt.format(ID, name, planid, elevation, start, duration[0:5], altitude)\n",
    "    print(line)\n",
    "    \n",
    "ID = planid = elevation = duration = ''\n",
    "name = 'Landing'\n",
    "start = arrival[11:19]\n",
    "altitude = '0 ft'\n",
    "line = fmt.format(ID, name, planid, elevation, start, duration, altitude)\n",
    "print(line)\n",
    "name = 'Total flight time'\n",
    "start = altitude = ''\n",
    "duration = flightTime\n",
    "line = fmt.format(ID, name, planid, elevation, start, duration, altitude)\n",
    "print(line)\n",
    "    \n",
    "    \n",
    "# Save in a latex file - create a main.tex that includes it and run pdflatex"
   ]
  },
  {
   "cell_type": "markdown",
   "id": "fbe8d740",
   "metadata": {},
   "source": [
    "### Using the module"
   ]
  },
  {
   "cell_type": "code",
   "execution_count": 17,
   "id": "8f3d654e",
   "metadata": {},
   "outputs": [
    {
     "name": "stdout",
     "output_type": "stream",
     "text": [
      "\\begin{table}\n",
      "\\begin{center}\n",
      "\\begin{tabular}{rrccrrr}\n",
      "\\hline\n",
      "\\hline\n",
      "Leg & Target & AOR_ID & Elevation & UTC start & Duration & Altitude\\\\\n",
      "\\hline\n",
      "\\hline\n",
      "1  & Departure &  &  & 03:45:00 & 00:02 & 10000 ft\\\\\n",
      "2  & Climb &  &  & 03:48:46 & 00:08 & 35000 ft\\\\\n",
      "3  & Climb &  &  & 03:58:38 & 00:14 & 36000 ft\\\\\n",
      "4  & Setup &  & 24.3-25.0 & 04:14:20 & 00:30 & 38000 ft\\\\\n",
      "5  & m83-1 & 70_0808 & 28.3-28.4 & 04:44:23 & 00:53 & 39000 ft\\\\\n",
      "6  & IRAS 12112+0305 & 08_0095 & 54.4-43.4 & 05:38:31 & 01:17 & 39000/35/41000 ft\\\\\n",
      "7  & NGC6946_Nuc & 09_0198 & 32.6-44.5 & 07:00:08 & 01:45 & 41000/75/43000 ft\\\\\n",
      "8  & Sgr A & 71_0024 & 30.3-31.1 & 08:51:17 & 00:54 & 43000 ft\\\\\n",
      "9  & Mrk 0290 & 08_0226 & 54.8-42.1 & 09:49:34 & 01:35 & 43000 ft\\\\\n",
      "10 & Arrival &  &  & 11:26:29 & 00:45 & 43000 ft\\\\\n",
      "   & Landing &   &   & 12:11:52 &   & 0 ft\\\\\n",
      "   & Total flight time &   &   &  & 08:26:53 & \\\\\n",
      "\\hline\n",
      "\\hline\n",
      "\\end{tabular}\n",
      "\\end{center}\n",
      "\\end{table}\n"
     ]
    }
   ],
   "source": [
    "from fififly.flightplan import flightTable\n",
    "aorfile = '../test/202105_FI_MAXINE_WX36.misxml'\n",
    "table = flightTable(aorfile)\n",
    "for t in table:\n",
    "    print(t)\n"
   ]
  },
  {
   "cell_type": "code",
   "execution_count": 148,
   "id": "6da7993a",
   "metadata": {},
   "outputs": [],
   "source": [
    "legs = tree.find('FlightPlan/Legs')"
   ]
  },
  {
   "cell_type": "markdown",
   "id": "6315e9fa",
   "metadata": {},
   "source": [
    "## Table of legs"
   ]
  },
  {
   "cell_type": "code",
   "execution_count": 138,
   "id": "a24c2176",
   "metadata": {},
   "outputs": [
    {
     "ename": "AttributeError",
     "evalue": "'NoneType' object has no attribute 'findall'",
     "output_type": "error",
     "traceback": [
      "\u001b[0;31m---------------------------------------------------------------------------\u001b[0m",
      "\u001b[0;31mAttributeError\u001b[0m                            Traceback (most recent call last)",
      "\u001b[0;32m<ipython-input-138-9102d49b7e86>\u001b[0m in \u001b[0;36m<module>\u001b[0;34m\u001b[0m\n\u001b[0;32m----> 1\u001b[0;31m \u001b[0mlegs\u001b[0m \u001b[0;34m=\u001b[0m \u001b[0;34m[\u001b[0m\u001b[0mitem\u001b[0m \u001b[0;32mfor\u001b[0m \u001b[0mitem\u001b[0m \u001b[0;32min\u001b[0m \u001b[0mflightplan\u001b[0m\u001b[0;34m.\u001b[0m\u001b[0mfindall\u001b[0m\u001b[0;34m(\u001b[0m\u001b[0;34m'Legs'\u001b[0m\u001b[0;34m)\u001b[0m\u001b[0;34m]\u001b[0m\u001b[0;34m\u001b[0m\u001b[0;34m\u001b[0m\u001b[0m\n\u001b[0m",
      "\u001b[0;31mAttributeError\u001b[0m: 'NoneType' object has no attribute 'findall'"
     ]
    }
   ],
   "source": [
    "legs = [item for item in flightplan.findall('Legs')]"
   ]
  },
  {
   "cell_type": "code",
   "execution_count": 137,
   "id": "8554d593",
   "metadata": {},
   "outputs": [
    {
     "ename": "TypeError",
     "evalue": "element indices must be integers",
     "output_type": "error",
     "traceback": [
      "\u001b[0;31m---------------------------------------------------------------------------\u001b[0m",
      "\u001b[0;31mTypeError\u001b[0m                                 Traceback (most recent call last)",
      "\u001b[0;32m<ipython-input-137-4a95431bd989>\u001b[0m in \u001b[0;36m<module>\u001b[0;34m\u001b[0m\n\u001b[0;32m----> 1\u001b[0;31m \u001b[0mlegs\u001b[0m\u001b[0;34m[\u001b[0m\u001b[0;36m0\u001b[0m\u001b[0;34m]\u001b[0m\u001b[0;34m[\u001b[0m\u001b[0;34m'Leg'\u001b[0m\u001b[0;34m]\u001b[0m\u001b[0;34m\u001b[0m\u001b[0;34m\u001b[0m\u001b[0m\n\u001b[0m",
      "\u001b[0;31mTypeError\u001b[0m: element indices must be integers"
     ]
    }
   ],
   "source": []
  },
  {
   "cell_type": "markdown",
   "id": "8c749b54",
   "metadata": {},
   "source": [
    "# Compile and display"
   ]
  },
  {
   "cell_type": "code",
   "execution_count": 16,
   "id": "906bda46",
   "metadata": {},
   "outputs": [
    {
     "name": "stdout",
     "output_type": "stream",
     "text": [
      "darwin\n"
     ]
    },
    {
     "data": {
      "text/plain": [
       "'09_0038_backup.aor\\nA85\\nATT\\nAdministration\\nApplications\\nBooks\\nCIAO.ipynb\\nCertificates\\nChandra\\nCodes\\nCommunityDay\\nDesktop\\nDocuments\\nDownloads\\nFIFI-LS\\nFORCAST\\nHAWC\\nHelp\\nIDL\\nIDLWorkspace\\nIDLpipeline\\nInterviews\\nIrsLow\\nLibrary\\nModel\\nMovies\\nMusic\\nNotes\\nOLDPC\\nOldDesktop\\nPACS\\nPapers\\nPictures\\nProposals\\nPublic\\nPython\\nReferee\\nReviews\\nSciPy2019\\nSites\\nSpitzer\\nTalks\\nTeleTalk\\nUsers\\nWeb\\nadam\\nanaconda3\\nbin\\ncxcds_param4\\ndemo.docx\\nhcss\\nmopex-script-env.bash\\nmopex-script-env.csh\\nold.spyder\\nold.spyder-py3\\nsofia'"
      ]
     },
     "execution_count": 16,
     "metadata": {},
     "output_type": "execute_result"
    }
   ],
   "source": [
    "import platform\n",
    "import subprocess\n",
    "print(platform.system().lower() )\n",
    "output = subprocess.run([\"ls\", \"-l\", \".\"], capture_output=True)\n",
    "subprocess.getoutput('ls ~')"
   ]
  },
  {
   "cell_type": "code",
   "execution_count": null,
   "id": "3ea66c6c",
   "metadata": {},
   "outputs": [],
   "source": [
    "# works with Python3\n",
    "import os\n",
    "import platform\n",
    "import subprocess\n",
    "\n",
    "# TeX source filename\n",
    "tex_filename = 'my_doc.tex'\n",
    "filename, ext = os.path.splitext(tex_filename)\n",
    "# the corresponding PDF filename\n",
    "pdf_filename = filename + '.pdf'\n",
    "\n",
    "# compile TeX file\n",
    "subprocess.run(['pdflatex', '-interaction=nonstopmode', '-output-directory=pdf' tex_filename])\n",
    "\n",
    "# check if PDF is successfully generated\n",
    "if not os.path.exists(pdf_filename):\n",
    "    raise RuntimeError('PDF output not found')\n",
    "\n",
    "# open PDF with platform-specific command\n",
    "if platform.system().lower() == 'darwin':\n",
    "    subprocess.run(['open', pdf_filename])\n",
    "elif platform.system().lower() == 'windows':\n",
    "    os.startfile(pdf_filename)\n",
    "elif platform.system().lower() == 'linux':\n",
    "    subprocess.run(['xdg-open', pdf_filename])\n",
    "else:\n",
    "    raise RuntimeError('Unknown operating system \"{}\"'.format(platform.system()))\n"
   ]
  },
  {
   "cell_type": "markdown",
   "id": "1ac48993",
   "metadata": {},
   "source": [
    "# Experiment"
   ]
  },
  {
   "cell_type": "code",
   "execution_count": 14,
   "id": "3698ca58",
   "metadata": {},
   "outputs": [
    {
     "name": "stdout",
     "output_type": "stream",
     "text": [
      "1  & Departure &  &  & 03:45:00 & 00:02 & 10000 ft\\\\\n",
      "2  & Climb &  &  & 03:48:46 & 00:08 & 35000 ft\\\\\n",
      "3  & Climb &  &  & 03:58:38 & 00:14 & 36000 ft\\\\\n",
      "4  & Setup &  & 24.3-25.0 & 04:14:20 & 00:30 & 38000 ft\\\\\n",
      "5  & m83-1 & 70\\_0808 & 28.3-28.4 & 04:44:23 & 00:53 & 39000 ft\\\\\n",
      "6  & IRAS 12112+0305 & 08\\_0095 & 54.4-43.4 & 05:38:31 & 01:17 & 39000/35/41000 ft\\\\\n",
      "7  & NGC6946\\_Nuc & 09\\_0198 & 32.6-44.5 & 07:00:08 & 01:45 & 41000/75/43000 ft\\\\\n",
      "8  & Sgr A & 71\\_0024 & 30.3-31.1 & 08:51:17 & 00:54 & 43000 ft\\\\\n",
      "9  & Mrk 0290 & 08\\_0226 & 54.8-42.1 & 09:49:34 & 01:35 & 43000 ft\\\\\n",
      "10 & Arrival &  &  & 11:26:29 & 00:45 & 43000 ft\\\\\n",
      "pdf file name  ../test/test.pdf\n"
     ]
    }
   ],
   "source": [
    "# Write a table in a file and run pdflatex\n",
    "\n",
    "from fififly.flightplan import flightTable, parsTable, runLatex\n",
    "\n",
    "aorfile = '../test/202105_FI_MAXINE_WX36.misxml'\n",
    "mapfile = '../test/202105_FI_MAXINE_WX36.png'\n",
    "flighttable = flightTable(aorfile)\n",
    "filename = '../test/test.tex'\n",
    "fifiparsfile = '../test/fifils-pars.json'\n",
    "fifiparstable = parsTable(fifiparsfile)\n",
    "\n",
    "with open(filename, 'w') as f:\n",
    "    f.write(r'\\documentclass{report}'+'\\n')\n",
    "    f.write(r'\\topmargin      -10mm'+'\\n')\n",
    "    f.write(r'\\oddsidemargin  -10mm'+'\\n')\n",
    "    f.write(r'\\evensidemargin 17mm '+'\\n')\n",
    "    f.write(r'\\textwidth      180mm'+'\\n')\n",
    "    f.write(r'\\textheight     220mm'+'\\n')\n",
    "    f.write(r'\\usepackage{graphicx}'+'\\n')\n",
    "    f.write(r'\\usepackage{fancyhdr}'+'\\n')\n",
    "    f.write(r'\\usepackage{lastpage}'+'\\n')\n",
    "    #f.write(r'\\fancypagestyle{style1}{'+'\\n')\n",
    "    #f.write(r'\\fancyhf{}'+'\\n')\n",
    "    #f.write(r'\\fancyhead[R]{FIFI-LS Flight Description}'+'\\n')\n",
    "    ##f.write(r'\\rfoot{Page \\thepage / \\pageref{LastPage}}'+'\\n')\n",
    "    #f.write(r'\\fancyfoot[R]{\\thepage / \\pageref{LastPage}}'+'\\n')\n",
    "    #f.write(r'\\renewcommand{\\headrulewidth}{0.4pt}'+'\\n')\n",
    "    #f.write(r'}'+'\\n')\n",
    "    f.write(r'\\renewcommand{\\headrulewidth}{2pt}'+'\\n')\n",
    "    f.write(r'\\pagestyle{fancy}'+'\\n')\n",
    "    f.write(r'\\fancyhf{}'+'\\n')\n",
    "    f.write(r'\\rhead{FIFI-LS Flight Description}'+'\\n')\n",
    "    f.write(r'\\rfoot{Page \\thepage / \\pageref{LastPage}}'+'\\n')\n",
    "    f.write(r'\\begin{document}'+'\\n')\n",
    "    #f.write(r'\\large'+'\\n')\n",
    "    # Cover\n",
    "    f.write(r'\\begin{titlepage}'+'\\n')\n",
    "    f.write(r'\\begin{center}'+'\\n')\n",
    "    f.write(r'\\vspace*{1cm}'+'\\n')\n",
    "    f.write(r'\\textbf{\\Huge FIFI-LS\\\\}'+'\\n')\n",
    "    f.write(r'\\vspace{0.5cm}'+'\\n')\n",
    "    f.write(r'{\\huge Flight Description\\\\}'+'\\n')\n",
    "    f.write(r'\\vspace{2.5cm}'+'\\n')\n",
    "    f.write(r'\\includegraphics[width=0.5\\textwidth]{../test/sofia}\\\\'+'\\n')\n",
    "    f.write(r'\\vspace{2.5cm}'+'\\n')\n",
    "    f.write(r'\\textbf{\\Large Flight name: MAXINE}\\\\'+'\\n')\n",
    "    f.write(r'\\vspace{0.5cm}'+'\\n')\n",
    "    f.write(r'\\textbf{\\Large SOFIA flight: 790}\\\\'+'\\n')\n",
    "    f.write(r'\\vspace{0.5cm}'+'\\n')\n",
    "    f.write(r'\\textbf{\\Large FIFI-LS flight: 105}\\\\'+'\\n')\n",
    "    f.write(r'\\vspace{0.5cm}'+'\\n')\n",
    "    f.write(r'\\textbf{\\Large Date: 2021-06-05}\\\\'+'\\n')\n",
    "    f.write(r'\\vfill'+'\\n')\n",
    "    f.write(r'\\end{center}'+'\\n')\n",
    "    f.write(r'\\end{titlepage}'+'\\n')\n",
    "    # Definitions & Parameters\n",
    "    #f.write(r'\\lipsum[1-20]'+'\\n')\n",
    "    #f.write(r'\\thispagestyle{style1}'+'\\n')\n",
    "    #f.write(r'\\section{Definitions \\& Parameters}'+'\\n')\n",
    "    f.write(r'\\lhead{Definitions \\& Parameters}'+'\\n')\n",
    "    # Insert Table\n",
    "    for t in fifiparstable:\n",
    "        f.write(t+'\\n')\n",
    "    #f.write(r'\\newpage'+'\\n')\n",
    "    # Flight Plan\n",
    "    #f.write(r'\\lipsum[1-20]'+'\\n')\n",
    "    #f.write(r'\\thispagestyle{style1}'+'\\n')\n",
    "    f.write(r'\\lhead{Flight Plan}'+'\\n')\n",
    "    #f.write(r'\\section{Flight Plan}'+'\\n')\n",
    "    # Insert Figure\n",
    "    #f.write(r'\\begin{figure}[ht]'+'\\n')\n",
    "    f.write(r'\\begin{center}'+'\\n')\n",
    "    f.write(r'\\includegraphics[width=0.75\\textwidth]{'+mapfile+'}'+'\\n')\n",
    "    #f.write(r'\\label{fig:flightmap}'+'\\n')\n",
    "    f.write(r'\\end{center}'+'\\n')\n",
    "    #f.write(r'\\end{figure}'+'\\n')\n",
    "    # Insert Table\n",
    "    for t in flighttable:\n",
    "        f.write(t+'\\n')\n",
    "    f.write(r'\\end{document}')\n",
    "    \n",
    "runLatex(filename)"
   ]
  },
  {
   "cell_type": "code",
   "execution_count": null,
   "id": "20a3b87a",
   "metadata": {},
   "outputs": [],
   "source": []
  },
  {
   "cell_type": "code",
   "execution_count": null,
   "id": "5d20968c",
   "metadata": {},
   "outputs": [],
   "source": []
  }
 ],
 "metadata": {
  "kernelspec": {
   "display_name": "Python 3",
   "language": "python",
   "name": "python3"
  },
  "language_info": {
   "codemirror_mode": {
    "name": "ipython",
    "version": 3
   },
   "file_extension": ".py",
   "mimetype": "text/x-python",
   "name": "python",
   "nbconvert_exporter": "python",
   "pygments_lexer": "ipython3",
   "version": "3.7.10"
  }
 },
 "nbformat": 4,
 "nbformat_minor": 5
}
