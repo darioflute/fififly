{
 "cells": [
  {
   "cell_type": "markdown",
   "id": "f684c5c1",
   "metadata": {},
   "source": [
    "# Notebook to test the reading of an AOR"
   ]
  },
  {
   "cell_type": "code",
   "execution_count": 2,
   "id": "944beb61",
   "metadata": {},
   "outputs": [
    {
     "data": {
      "text/plain": [
       "['sgra', 'm83-1', 'The Brig-1', 'SgrC-1', 'Dust Ridge-1', 'm83-1']"
      ]
     },
     "execution_count": 2,
     "metadata": {},
     "output_type": "execute_result"
    }
   ],
   "source": [
    "from xml.etree.ElementTree import ElementTree as ET\n",
    "\n",
    "aorfile = '../test/70_0808.aor'\n",
    "tree = ET(file=aorfile)\n",
    "vector = tree.find('list/vector')\n",
    "# Extract Target and Instrument from each AOR\n",
    "targets = [item.text for item in vector.findall('Request/target/name')]\n",
    "instruments = [item.text for item in vector.findall('Request/instrument/data/InstrumentName')]\n",
    "targets"
   ]
  },
  {
   "cell_type": "code",
   "execution_count": 3,
   "id": "64a65f3e",
   "metadata": {},
   "outputs": [
    {
     "name": "stdout",
     "output_type": "stream",
     "text": [
      "FIFI-LS GTO Cycle 8\n"
     ]
    }
   ],
   "source": [
    "# Abstract\n",
    "abstract = tree.find('list/ProposalInfo/ProposalAbstract')\n",
    "print(abstract.text)"
   ]
  },
  {
   "cell_type": "code",
   "execution_count": 9,
   "id": "1d02a298",
   "metadata": {},
   "outputs": [],
   "source": [
    "import numpy as np\n",
    "instruments = np.array(instruments)\n",
    "idx = instruments == 'FIFI-LS'"
   ]
  },
  {
   "cell_type": "code",
   "execution_count": 10,
   "id": "05df4d58",
   "metadata": {},
   "outputs": [
    {
     "data": {
      "text/plain": [
       "array([ True,  True,  True,  True,  True,  True, False, False, False,\n",
       "       False, False, False, False, False, False, False, False, False,\n",
       "       False, False, False, False, False, False, False, False, False,\n",
       "        True])"
      ]
     },
     "execution_count": 10,
     "metadata": {},
     "output_type": "execute_result"
    }
   ],
   "source": [
    "idx"
   ]
  },
  {
   "cell_type": "markdown",
   "id": "2008f48c",
   "metadata": {},
   "source": [
    "# Extract images from pdf\n",
    "\n",
    "The PyPDF2 does not work.\n",
    "\n",
    "The package pymupdf works.\n",
    "It has to be installed with pip (pip install pymupdf)."
   ]
  },
  {
   "cell_type": "code",
   "execution_count": 7,
   "id": "3e3af8ba",
   "metadata": {},
   "outputs": [],
   "source": [
    "import PyPDF2\n",
    "from PIL import Image\n",
    "    "
   ]
  },
  {
   "cell_type": "code",
   "execution_count": 19,
   "id": "e6840b5e",
   "metadata": {},
   "outputs": [
    {
     "name": "stdout",
     "output_type": "stream",
     "text": [
      "The total number of pages in the pdf document is 6\n",
      "PDF Metadata is {'/Producer': 'iText® 5.5.10 ©2000-2015 iText Group NV (AGPL-version)', '/CreationDate': \"D:20210730162927-07'00'\", '/ModDate': \"D:20210730162927-07'00'\"}\n",
      "{'/Producer': 'iText® 5.5.10 ©2000-2015 iText Group NV (AGPL-version)', '/CreationDate': \"D:20210730162927-07'00'\", '/ModDate': \"D:20210730162927-07'00'\"}\n",
      "(0, 97)\n",
      "(0, 3)\n",
      "(0, 4)\n",
      "(0, 7)\n",
      "(0, 10)\n",
      "(0, 13)\n",
      "(0, 16)\n",
      "(0, 19)\n",
      "(0, 98)\n"
     ]
    }
   ],
   "source": [
    "pdf = PyPDF2.PdfFileReader(open(\"../test/08_0226_attachment.pdf\", \"rb\"))\n",
    "print(f\"The total number of pages in the pdf document is {pdf.numPages}\")\n",
    "print(f'PDF Metadata is {pdf.documentInfo}')\n",
    "print(pdf.getDocumentInfo())\n",
    "#print(f'PDF File Author is {input1.documentInfo[\"/Author\"]}')\n",
    "#print(f'PDF File Creator is {input1.documentInfo[\"/Creator\"]}')\n",
    "#pdf.getPage(0)['/Resources']['/Properties']['/MC0']['/MYOBJECT'].getData()\n",
    "\n",
    "# Objects\n",
    "for obj in pdf.resolvedObjects:\n",
    "    print(obj)\n",
    "\n",
    "#print(pdf.resolvedObjects)"
   ]
  },
  {
   "cell_type": "code",
   "execution_count": 7,
   "id": "3a34dfd3",
   "metadata": {},
   "outputs": [
    {
     "name": "stdout",
     "output_type": "stream",
     "text": [
      "The total number of pages in the pdf document is 6\n",
      "PDF Metadata is {'/Producer': 'iText® 5.5.10 ©2000-2015 iText Group NV (AGPL-version)', '/CreationDate': \"D:20210730162927-07'00'\", '/ModDate': \"D:20210730162927-07'00'\"}\n",
      "{'/Producer': 'iText® 5.5.10 ©2000-2015 iText Group NV (AGPL-version)', '/CreationDate': \"D:20210730162927-07'00'\", '/ModDate': \"D:20210730162927-07'00'\"}\n",
      "{(0, 97): {'/Type': '/Catalog', '/Pages': IndirectObject(3, 0)}, (0, 3): {'/Type': '/Pages', '/Count': 6, '/Kids': [IndirectObject(4, 0), IndirectObject(7, 0), IndirectObject(10, 0), IndirectObject(13, 0), IndirectObject(16, 0), IndirectObject(19, 0)]}, (0, 4): {'/Type': '/Page', '/MediaBox': [0, 0, 612, 792], '/Resources': {'/XObject': {'/Xf1': IndirectObject(1, 0)}}, '/ArtBox': [36, 54, 572, 759], '/Contents': IndirectObject(2, 0), '/Parent': IndirectObject(3, 0)}, (0, 7): {'/Type': '/Page', '/MediaBox': [0, 0, 612, 792], '/Resources': {'/XObject': {'/Xf2': IndirectObject(5, 0)}}, '/ArtBox': [36, 54, 572, 759], '/Contents': IndirectObject(6, 0), '/Parent': IndirectObject(3, 0)}, (0, 10): {'/Type': '/Page', '/MediaBox': [0, 0, 612, 792], '/Resources': {'/XObject': {'/Xf3': IndirectObject(8, 0)}}, '/ArtBox': [36, 54, 572, 759], '/Contents': IndirectObject(9, 0), '/Parent': IndirectObject(3, 0)}, (0, 13): {'/Type': '/Page', '/MediaBox': [0, 0, 612, 792], '/Resources': {'/XObject': {'/Xf4': IndirectObject(11, 0)}}, '/ArtBox': [36, 54, 572, 759], '/Contents': IndirectObject(12, 0), '/Parent': IndirectObject(3, 0)}, (0, 16): {'/Type': '/Page', '/MediaBox': [0, 0, 612, 792], '/Resources': {'/XObject': {'/Xf5': IndirectObject(14, 0)}}, '/ArtBox': [36, 54, 572, 759], '/Contents': IndirectObject(15, 0), '/Parent': IndirectObject(3, 0)}, (0, 19): {'/Type': '/Page', '/MediaBox': [0, 0, 612, 792], '/Resources': {'/XObject': {'/Xf6': IndirectObject(17, 0)}}, '/ArtBox': [36, 54, 572, 759], '/Contents': IndirectObject(18, 0), '/Parent': IndirectObject(3, 0)}, (0, 98): {'/Producer': 'iText® 5.5.10 ©2000-2015 iText Group NV (AGPL-version)', '/CreationDate': \"D:20210730162927-07'00'\", '/ModDate': \"D:20210730162927-07'00'\"}}\n",
      "pages [{'/Type': '/Page', '/MediaBox': [0, 0, 612, 792], '/Resources': {'/XObject': {'/Xf1': IndirectObject(1, 0)}}, '/ArtBox': [36, 54, 572, 759], '/Contents': IndirectObject(2, 0), '/Parent': IndirectObject(3, 0)}, {'/Type': '/Page', '/MediaBox': [0, 0, 612, 792], '/Resources': {'/XObject': {'/Xf2': IndirectObject(5, 0)}}, '/ArtBox': [36, 54, 572, 759], '/Contents': IndirectObject(6, 0), '/Parent': IndirectObject(3, 0)}, {'/Type': '/Page', '/MediaBox': [0, 0, 612, 792], '/Resources': {'/XObject': {'/Xf3': IndirectObject(8, 0)}}, '/ArtBox': [36, 54, 572, 759], '/Contents': IndirectObject(9, 0), '/Parent': IndirectObject(3, 0)}, {'/Type': '/Page', '/MediaBox': [0, 0, 612, 792], '/Resources': {'/XObject': {'/Xf4': IndirectObject(11, 0)}}, '/ArtBox': [36, 54, 572, 759], '/Contents': IndirectObject(12, 0), '/Parent': IndirectObject(3, 0)}, {'/Type': '/Page', '/MediaBox': [0, 0, 612, 792], '/Resources': {'/XObject': {'/Xf5': IndirectObject(14, 0)}}, '/ArtBox': [36, 54, 572, 759], '/Contents': IndirectObject(15, 0), '/Parent': IndirectObject(3, 0)}, {'/Type': '/Page', '/MediaBox': [0, 0, 612, 792], '/Resources': {'/XObject': {'/Xf6': IndirectObject(17, 0)}}, '/ArtBox': [36, 54, 572, 759], '/Contents': IndirectObject(18, 0), '/Parent': IndirectObject(3, 0)}]\n",
      "text:  \n",
      "type:  /Page\n",
      "no resources found\n"
     ]
    },
    {
     "ename": "NameError",
     "evalue": "name 'xObject' is not defined",
     "output_type": "error",
     "traceback": [
      "\u001b[0;31m---------------------------------------------------------------------------\u001b[0m",
      "\u001b[0;31mNameError\u001b[0m                                 Traceback (most recent call last)",
      "\u001b[0;32m<ipython-input-7-521a4fd9a916>\u001b[0m in \u001b[0;36m<module>\u001b[0;34m\u001b[0m\n\u001b[1;32m     23\u001b[0m \u001b[0;34m\u001b[0m\u001b[0m\n\u001b[1;32m     24\u001b[0m \u001b[0;34m\u001b[0m\u001b[0m\n\u001b[0;32m---> 25\u001b[0;31m     \u001b[0;32mfor\u001b[0m \u001b[0mobj\u001b[0m \u001b[0;32min\u001b[0m \u001b[0mxObject\u001b[0m\u001b[0;34m:\u001b[0m\u001b[0;34m\u001b[0m\u001b[0;34m\u001b[0m\u001b[0m\n\u001b[0m\u001b[1;32m     26\u001b[0m         \u001b[0mprint\u001b[0m\u001b[0;34m(\u001b[0m\u001b[0;34m'obj'\u001b[0m\u001b[0;34m,\u001b[0m\u001b[0mxObject\u001b[0m\u001b[0;34m[\u001b[0m\u001b[0mobj\u001b[0m\u001b[0;34m]\u001b[0m\u001b[0;34m[\u001b[0m\u001b[0;34m'/Subtype'\u001b[0m\u001b[0;34m]\u001b[0m \u001b[0;34m)\u001b[0m\u001b[0;34m\u001b[0m\u001b[0;34m\u001b[0m\u001b[0m\n\u001b[1;32m     27\u001b[0m         \u001b[0;32mif\u001b[0m \u001b[0mxObject\u001b[0m\u001b[0;34m[\u001b[0m\u001b[0mobj\u001b[0m\u001b[0;34m]\u001b[0m\u001b[0;34m[\u001b[0m\u001b[0;34m'/Subtype'\u001b[0m\u001b[0;34m]\u001b[0m \u001b[0;34m==\u001b[0m \u001b[0;34m'/Image'\u001b[0m\u001b[0;34m:\u001b[0m\u001b[0;34m\u001b[0m\u001b[0;34m\u001b[0m\u001b[0m\n",
      "\u001b[0;31mNameError\u001b[0m: name 'xObject' is not defined"
     ]
    }
   ],
   "source": [
    "print (input1.resolvedObjects)\n",
    "pages = list(input1.pages)\n",
    "print('pages' , pages)\n",
    "for ipage in range(input1.numPages):\n",
    "    page0 = input1.getPage(ipage)\n",
    "    print('text: ', page0.extractText())\n",
    "    #xObject = page0['/Type']['/XObject'].getObject()\n",
    "    print('type: ',page0['/Type'])\n",
    "    if '/XObject' in page0['/Type']:\n",
    "        xObject = page0['/Type']['/XObject'].getObject()\n",
    "        print('resources found')\n",
    "    else:\n",
    "        print('no resources found')\n",
    "\n",
    "\n",
    "    for obj in xObject:\n",
    "        print('obj',xObject[obj]['/Subtype'] )\n",
    "        if xObject[obj]['/Subtype'] == '/Image':\n",
    "            print('image')\n",
    "            size = (xObject[obj]['/Width'], xObject[obj]['/Height'])\n",
    "            data = xObject[obj].getData()\n",
    "            if xObject[obj]['/ColorSpace'] == '/DeviceRGB':\n",
    "                mode = \"RGB\"\n",
    "            else:\n",
    "                mode = \"P\"\n",
    "\n",
    "            if '/Filter' in xObject[obj]:\n",
    "                if xObject[obj]['/Filter'] == '/FlateDecode':\n",
    "                    img = Image.frombytes(mode, size, data)\n",
    "                    img.save('../test/'+obj[1:] + \".png\")\n",
    "                elif xObject[obj]['/Filter'] == '/DCTDecode':\n",
    "                    img = open('../test/'+obj[1:] + \".jpg\", \"wb\")\n",
    "                    img.write(data)\n",
    "                    img.close()\n",
    "                elif xObject[obj]['/Filter'] == '/JPXDecode':\n",
    "                    img = open('../test/'+obj[1:] + \".jp2\", \"wb\")\n",
    "                    img.write(data)\n",
    "                    img.close()\n",
    "                elif xObject[obj]['/Filter'] == '/CCITTFaxDecode':\n",
    "                    img = open(obj[1:] + \".tiff\", \"wb\")\n",
    "                    img.write(data)\n",
    "                    img.close()\n",
    "            else:\n",
    "                img = Image.frombytes(mode, size, data)\n",
    "                img.save(obj[1:] + \".png\")"
   ]
  },
  {
   "cell_type": "code",
   "execution_count": 62,
   "id": "71e66a1b",
   "metadata": {},
   "outputs": [],
   "source": [
    "# How to kill Adobe on MAC\n",
    "import psutil\n",
    "for p in psutil.process_iter():\n",
    "    #print(p.name())\n",
    "    if p.name() == 'AdobeReader':\n",
    "        p.kill()"
   ]
  },
  {
   "cell_type": "code",
   "execution_count": 9,
   "id": "c4763ce9",
   "metadata": {},
   "outputs": [],
   "source": [
    "import fitz\n",
    "import os \n",
    "aor = '08_0095'\n",
    "directory = os.path.join(\"..\",\"test\",aor)\n",
    "if not os.path.exists(directory):\n",
    "    os.makedirs(directory)\n",
    "doc = fitz.open(os.path.join(\"..\",\"test\",aor+\"_attachment.pdf\"))\n",
    "for i in range(len(doc)):\n",
    "    for img in doc.getPageImageList(i):\n",
    "        xref = img[0]\n",
    "        pix = fitz.Pixmap(doc, xref)\n",
    "        if pix.n < 5:       # this is GRAY or RGB\n",
    "            pix.writePNG(os.path.join(\"..\",\"test\",aor,\"p%s-%s.png\") % (i, xref))\n",
    "        else:               # CMYK: convert to RGB first\n",
    "            pix1 = fitz.Pixmap(fitz.csRGB, pix)\n",
    "            pix1.writePNG(os.path.join(\"..\",\"test\",aor,\"p%s-%s.png\") % (i, xref))\n",
    "            pix1 = None\n",
    "        pix = None"
   ]
  },
  {
   "cell_type": "markdown",
   "id": "4e572196",
   "metadata": {},
   "source": [
    "# Flight plan table"
   ]
  },
  {
   "cell_type": "code",
   "execution_count": 4,
   "id": "562e0d0a",
   "metadata": {},
   "outputs": [
    {
     "name": "stdout",
     "output_type": "stream",
     "text": [
      "202105_FI_MAXINE 08:26:53 2021-06-05T03:45:00Z 2021-06-05T12:11:52Z\n",
      "1 & Departure &  &  & 03:45:00 & 00:02 & 10000 ft\\\\\\n\n",
      "2 & Climb &  &  & 03:48:46 & 00:08 & 35000 ft\\\\\\n\n",
      "3 & Climb &  &  & 03:58:38 & 00:14 & 36000 ft\\\\\\n\n",
      "4 & Setup &  & 24.3-25.0 & 04:14:20 & 00:30 & 38000 ft\\\\\\n\n",
      "5 & m83-1 & 70\\_0808 & 28.3-28.4 & 04:44:23 & 00:53 & 39000 ft\\\\\\n\n",
      "6 & IRAS 12112+0305 & 08\\_0095 & 54.4-43.4 & 05:38:31 & 01:17 & 39000/35/41000 ft\\\\\\n\n",
      "7 & NGC6946_Nuc & 09\\_0198 & 32.6-44.5 & 07:00:08 & 01:45 & 41000/75/43000 ft\\\\\\n\n",
      "8 & Sgr A & 71\\_0024 & 30.3-31.1 & 08:51:17 & 00:54 & 43000 ft\\\\\\n\n",
      "9 & Mrk 0290 & 08\\_0226 & 54.8-42.1 & 09:49:34 & 01:35 & 43000 ft\\\\\\n\n",
      "10 & Arrival &  &  & 11:26:29 & 00:45 & 43000 ft\\\\\\n\n",
      " & Landing &  &  & 12:11:52 &  & 0 ft\\\\\\n\n",
      " & Total flight time &  &  &  & 08:26:53 & \\\\\\n\n"
     ]
    }
   ],
   "source": [
    "\n",
    "import xml.etree.ElementTree as ET\n",
    "aorfile = '../test/202105_FI_MAXINE_WX36.misxml'\n",
    "tree = ET.parse(aorfile)\n",
    "root = tree.getroot()\n",
    "\n",
    "#root.tag\n",
    "#root.attrib\n",
    "\n",
    "for flightplan in root.iter('FlightPlan'):\n",
    "    flightTime = flightplan.attrib['FltTime']\n",
    "    flightName = flightplan.attrib['Id']\n",
    "    departure = flightplan.attrib['DepartureTime']\n",
    "    arrival = flightplan.attrib['ArrivalTime']\n",
    "    print(flightName, flightTime, departure, arrival)\n",
    "\n",
    "table = ''\n",
    "fmt = '{0:s} & {1:s} & {2:s} & {3:s} & {4:s} & {5:s} & {6:s}\\\\\\\\\\\\n'\n",
    "for leg in root.iter('Leg'):\n",
    "    name = leg.find('Name').text\n",
    "    start = leg.find('Start').text\n",
    "    duration = leg.find('Duration').text\n",
    "    altitude = leg.find('Alt').text\n",
    "    planid = leg.find('ObsPlanID')\n",
    "    if planid is None:\n",
    "        planid = ''\n",
    "    else:\n",
    "        planid = str(planid.text)\n",
    "        planid = planid.replace('_','\\_')\n",
    "        if planid is None:\n",
    "            planid = ''\n",
    "    elevation = leg.find('Elev')\n",
    "    if elevation is not None:\n",
    "        elstart = elevation.attrib['start']\n",
    "        elend = elevation.attrib['end']\n",
    "        elevation = elstart+'-'+elend\n",
    "    else:\n",
    "        elend = ''\n",
    "        elstart=''\n",
    "        elevation = ''\n",
    "    ID = leg.attrib['id']\n",
    "    ftype = leg.attrib['type']\n",
    "    if ftype == 'Absolute':\n",
    "        name = 'Climb'\n",
    "    elif ftype == 'Arrival':\n",
    "        name = 'Arrival'\n",
    "    planid = planid.replace('None','')\n",
    "    line = fmt.format(ID, name, planid, elevation, start, duration[0:5], altitude)\n",
    "    print(line)\n",
    "    \n",
    "ID = planid = elevation = duration = ''\n",
    "name = 'Landing'\n",
    "start = arrival[11:19]\n",
    "altitude = '0 ft'\n",
    "line = fmt.format(ID, name, planid, elevation, start, duration, altitude)\n",
    "print(line)\n",
    "name = 'Total flight time'\n",
    "start = altitude = ''\n",
    "duration = flightTime\n",
    "line = fmt.format(ID, name, planid, elevation, start, duration, altitude)\n",
    "print(line)\n",
    "    \n",
    "    \n",
    "# Save in a latex file - create a main.tex that includes it and run pdflatex"
   ]
  },
  {
   "cell_type": "markdown",
   "id": "4de27d3f",
   "metadata": {},
   "source": [
    "### Using the module"
   ]
  },
  {
   "cell_type": "code",
   "execution_count": 17,
   "id": "e0f9356b",
   "metadata": {},
   "outputs": [
    {
     "name": "stdout",
     "output_type": "stream",
     "text": [
      "\\begin{table}\n",
      "\\begin{center}\n",
      "\\begin{tabular}{rrccrrr}\n",
      "\\hline\n",
      "\\hline\n",
      "Leg & Target & AOR_ID & Elevation & UTC start & Duration & Altitude\\\\\n",
      "\\hline\n",
      "\\hline\n",
      "1  & Departure &  &  & 03:45:00 & 00:02 & 10000 ft\\\\\n",
      "2  & Climb &  &  & 03:48:46 & 00:08 & 35000 ft\\\\\n",
      "3  & Climb &  &  & 03:58:38 & 00:14 & 36000 ft\\\\\n",
      "4  & Setup &  & 24.3-25.0 & 04:14:20 & 00:30 & 38000 ft\\\\\n",
      "5  & m83-1 & 70_0808 & 28.3-28.4 & 04:44:23 & 00:53 & 39000 ft\\\\\n",
      "6  & IRAS 12112+0305 & 08_0095 & 54.4-43.4 & 05:38:31 & 01:17 & 39000/35/41000 ft\\\\\n",
      "7  & NGC6946_Nuc & 09_0198 & 32.6-44.5 & 07:00:08 & 01:45 & 41000/75/43000 ft\\\\\n",
      "8  & Sgr A & 71_0024 & 30.3-31.1 & 08:51:17 & 00:54 & 43000 ft\\\\\n",
      "9  & Mrk 0290 & 08_0226 & 54.8-42.1 & 09:49:34 & 01:35 & 43000 ft\\\\\n",
      "10 & Arrival &  &  & 11:26:29 & 00:45 & 43000 ft\\\\\n",
      "   & Landing &   &   & 12:11:52 &   & 0 ft\\\\\n",
      "   & Total flight time &   &   &  & 08:26:53 & \\\\\n",
      "\\hline\n",
      "\\hline\n",
      "\\end{tabular}\n",
      "\\end{center}\n",
      "\\end{table}\n"
     ]
    }
   ],
   "source": [
    "from fififly.flightplan import flightTable\n",
    "aorfile = '../test/202105_FI_MAXINE_WX36.misxml'\n",
    "table = flightTable(aorfile)\n",
    "for t in table:\n",
    "    print(t)\n"
   ]
  },
  {
   "cell_type": "code",
   "execution_count": 148,
   "id": "6c1f5f12",
   "metadata": {},
   "outputs": [],
   "source": [
    "legs = tree.find('FlightPlan/Legs')"
   ]
  },
  {
   "cell_type": "markdown",
   "id": "266228db",
   "metadata": {},
   "source": [
    "## Table of legs"
   ]
  },
  {
   "cell_type": "code",
   "execution_count": 138,
   "id": "27462653",
   "metadata": {},
   "outputs": [
    {
     "ename": "AttributeError",
     "evalue": "'NoneType' object has no attribute 'findall'",
     "output_type": "error",
     "traceback": [
      "\u001b[0;31m---------------------------------------------------------------------------\u001b[0m",
      "\u001b[0;31mAttributeError\u001b[0m                            Traceback (most recent call last)",
      "\u001b[0;32m<ipython-input-138-9102d49b7e86>\u001b[0m in \u001b[0;36m<module>\u001b[0;34m\u001b[0m\n\u001b[0;32m----> 1\u001b[0;31m \u001b[0mlegs\u001b[0m \u001b[0;34m=\u001b[0m \u001b[0;34m[\u001b[0m\u001b[0mitem\u001b[0m \u001b[0;32mfor\u001b[0m \u001b[0mitem\u001b[0m \u001b[0;32min\u001b[0m \u001b[0mflightplan\u001b[0m\u001b[0;34m.\u001b[0m\u001b[0mfindall\u001b[0m\u001b[0;34m(\u001b[0m\u001b[0;34m'Legs'\u001b[0m\u001b[0;34m)\u001b[0m\u001b[0;34m]\u001b[0m\u001b[0;34m\u001b[0m\u001b[0;34m\u001b[0m\u001b[0m\n\u001b[0m",
      "\u001b[0;31mAttributeError\u001b[0m: 'NoneType' object has no attribute 'findall'"
     ]
    }
   ],
   "source": [
    "legs = [item for item in flightplan.findall('Legs')]"
   ]
  },
  {
   "cell_type": "code",
   "execution_count": 137,
   "id": "37ed446f",
   "metadata": {},
   "outputs": [
    {
     "ename": "TypeError",
     "evalue": "element indices must be integers",
     "output_type": "error",
     "traceback": [
      "\u001b[0;31m---------------------------------------------------------------------------\u001b[0m",
      "\u001b[0;31mTypeError\u001b[0m                                 Traceback (most recent call last)",
      "\u001b[0;32m<ipython-input-137-4a95431bd989>\u001b[0m in \u001b[0;36m<module>\u001b[0;34m\u001b[0m\n\u001b[0;32m----> 1\u001b[0;31m \u001b[0mlegs\u001b[0m\u001b[0;34m[\u001b[0m\u001b[0;36m0\u001b[0m\u001b[0;34m]\u001b[0m\u001b[0;34m[\u001b[0m\u001b[0;34m'Leg'\u001b[0m\u001b[0;34m]\u001b[0m\u001b[0;34m\u001b[0m\u001b[0;34m\u001b[0m\u001b[0m\n\u001b[0m",
      "\u001b[0;31mTypeError\u001b[0m: element indices must be integers"
     ]
    }
   ],
   "source": []
  },
  {
   "cell_type": "markdown",
   "id": "da17a11c",
   "metadata": {},
   "source": [
    "# Compile and display"
   ]
  },
  {
   "cell_type": "code",
   "execution_count": 16,
   "id": "1f76e334",
   "metadata": {},
   "outputs": [
    {
     "name": "stdout",
     "output_type": "stream",
     "text": [
      "darwin\n"
     ]
    },
    {
     "data": {
      "text/plain": [
       "'09_0038_backup.aor\\nA85\\nATT\\nAdministration\\nApplications\\nBooks\\nCIAO.ipynb\\nCertificates\\nChandra\\nCodes\\nCommunityDay\\nDesktop\\nDocuments\\nDownloads\\nFIFI-LS\\nFORCAST\\nHAWC\\nHelp\\nIDL\\nIDLWorkspace\\nIDLpipeline\\nInterviews\\nIrsLow\\nLibrary\\nModel\\nMovies\\nMusic\\nNotes\\nOLDPC\\nOldDesktop\\nPACS\\nPapers\\nPictures\\nProposals\\nPublic\\nPython\\nReferee\\nReviews\\nSciPy2019\\nSites\\nSpitzer\\nTalks\\nTeleTalk\\nUsers\\nWeb\\nadam\\nanaconda3\\nbin\\ncxcds_param4\\ndemo.docx\\nhcss\\nmopex-script-env.bash\\nmopex-script-env.csh\\nold.spyder\\nold.spyder-py3\\nsofia'"
      ]
     },
     "execution_count": 16,
     "metadata": {},
     "output_type": "execute_result"
    }
   ],
   "source": [
    "import platform\n",
    "import subprocess\n",
    "print(platform.system().lower() )\n",
    "output = subprocess.run([\"ls\", \"-l\", \".\"], capture_output=True)\n",
    "subprocess.getoutput('ls ~')"
   ]
  },
  {
   "cell_type": "code",
   "execution_count": null,
   "id": "c67269bc",
   "metadata": {},
   "outputs": [],
   "source": [
    "# works with Python3\n",
    "import os\n",
    "import platform\n",
    "import subprocess\n",
    "\n",
    "# TeX source filename\n",
    "tex_filename = 'my_doc.tex'\n",
    "filename, ext = os.path.splitext(tex_filename)\n",
    "# the corresponding PDF filename\n",
    "pdf_filename = filename + '.pdf'\n",
    "\n",
    "# compile TeX file\n",
    "subprocess.run(['pdflatex', '-interaction=nonstopmode', '-output-directory=pdf' tex_filename])\n",
    "\n",
    "# check if PDF is successfully generated\n",
    "if not os.path.exists(pdf_filename):\n",
    "    raise RuntimeError('PDF output not found')\n",
    "\n",
    "# open PDF with platform-specific command\n",
    "if platform.system().lower() == 'darwin':\n",
    "    subprocess.run(['open', pdf_filename])\n",
    "elif platform.system().lower() == 'windows':\n",
    "    os.startfile(pdf_filename)\n",
    "elif platform.system().lower() == 'linux':\n",
    "    subprocess.run(['xdg-open', pdf_filename])\n",
    "else:\n",
    "    raise RuntimeError('Unknown operating system \"{}\"'.format(platform.system()))\n"
   ]
  },
  {
   "cell_type": "markdown",
   "id": "78a07afc",
   "metadata": {},
   "source": [
    "# Program"
   ]
  },
  {
   "cell_type": "code",
   "execution_count": 1,
   "id": "134df2ed",
   "metadata": {},
   "outputs": [
    {
     "name": "stdout",
     "output_type": "stream",
     "text": [
      "obBlockID OB_70_0808_02\n",
      "comment  # 122 minutes requested in DCS<br># 120 minutes planned in DCS<br># 54 of 120 minutes in this series<br># 66 on MARIO<br># 54 on MAXINE (this flight)\n",
      "comment  # 122 minutes requested in DCS<br># 120 minutes planned in DCS<br># 54 of 120 minutes in this series<br># 66 on MARIO<br># 54 on MAXINE (this flight)\n",
      "aorfile  ../test/70_0808.aor\n",
      "abstract  FIFI-LS GTO Cycle 8\n",
      "obBlockID OB_08_0095_07\n",
      "comment  # 70 minutes requested in DCS<br># 70 minutes planned in DCS<br># 70 of 70 minutes in this series\n",
      "comment  # 70 minutes requested in DCS<br># 70 minutes planned in DCS<br># 70 of 70 minutes in this series\n",
      "../test/08_0095/1.png\n",
      "../test/08_0095/2.png\n",
      "aorfile  ../test/08_0095.aor\n",
      "abstract  A comprehensive stud\n",
      "obBlockID OB_09_0198_01\n",
      "comment  # 711 minutes requested in DCS<br># 406 minutes planned in DCS<br># 100 of 245 minutes in this series<br># 50 on MADDILYN<br># 50 on MATTHEW<br># 100 on MAXINE (this flight)<br># 45 on MIRIAM\n",
      "comment  # 711 minutes requested in DCS<br># 406 minutes planned in DCS<br># 100 of 245 minutes in this series<br># 50 on MADDILYN<br># 50 on MATTHEW<br># 100 on MAXINE (this flight)<br># 45 on MIRIAM\n",
      "../test/09_0198/1.png\n",
      "../test/09_0198/2.png\n",
      "aorfile  ../test/09_0198.aor\n",
      "abstract  Elements heavier tha\n",
      "obBlockID OB_71_0024_14\n",
      "comment  # 53 minutes requested in DCS<br># 53 minutes planned in DCS<br># 53 of 53 minutes in this series\n",
      "comment  # 53 minutes requested in DCS<br># 53 minutes planned in DCS<br># 53 of 53 minutes in this series\n",
      "aorfile  ../test/71_0024.aor\n",
      "abstract  We propose to test t\n",
      "obBlockID OB_08_0226_04\n",
      "comment  FFI guided<br># 129 minutes requested in DCS<br># 150 minutes planned in DCS<br># 75 of 108 minutes in this series<br># 75 on MAXINE (this flight)<br># 33 on MILDRED\n",
      "comment  FFI guided<br># 129 minutes requested in DCS<br># 150 minutes planned in DCS<br># 75 of 108 minutes in this series<br># 75 on MAXINE (this flight)<br># 33 on MILDRED\n",
      "../test/08_0226/1.png\n",
      "../test/08_0226/2.png\n",
      "../test/08_0226/4.png\n",
      "../test/08_0226/8.png\n",
      "../test/08_0226/16.png\n",
      "../test/08_0226/32.png\n",
      "../test/08_0226/64.png\n",
      "../test/08_0226/128.png\n",
      "../test/08_0226/256.png\n",
      "../test/08_0226/512.png\n",
      "../test/08_0226/1024.png\n",
      "aorfile  ../test/08_0226.aor\n",
      "abstract  Most bulge-dominated\n",
      "1  & Departure &  &  &  & 03:45:00 & 00:02 & 10 Kft\\\\\n",
      "2  & Climb &  &  &  & 03:48:46 & 00:08 & 35 Kft\\\\\n",
      "3  & Climb &  &  &  & 03:58:38 & 00:14 & 36 Kft\\\\\n",
      "4  & Setup &  &  & 24.3-25.0 & 04:14:20 & 00:30 & 38 Kft\\\\\n",
      "5  & m83-1 & 70\\_0808\\_02 & C & 28.3-28.4 & 04:44:23 & 00:53 & 39 Kft\\\\\n",
      "6  & IRAS 12112+0305 & 08\\_0095\\_07 & C & 54.4-43.4 & 05:38:31 & 01:17 & 39/35/41 Kft\\\\\n",
      "7  & NGC6946\\_Nuc & 09\\_0198\\_01 & B & 32.6-44.5 & 07:00:08 & 01:45 & 41/75/43 Kft\\\\\n",
      "8  & Sgr A & 71\\_0024\\_14 & C & 30.3-31.1 & 08:51:17 & 00:54 & 43 Kft\\\\\n",
      "9  & Mrk 0290 & 08\\_0226\\_04 & D & 54.8-42.1 & 09:49:34 & 01:35 & 43 Kft\\\\\n",
      "10 & Arrival &  &  &  & 11:26:29 & 00:45 & 43 Kft\\\\\n",
      "1  & Departure &  &  &  & 03:45:00 & 00:02 & 10 Kft\\\\\n",
      "2  & Climb &  &  &  & 03:48:46 & 00:08 & 35 Kft\\\\\n",
      "3  & Climb &  &  &  & 03:58:38 & 00:14 & 36 Kft\\\\\n",
      "4  & Setup &  &  & 24.3-25.0 & 04:14:20 & 00:30 & 38 Kft\\\\\n",
      "5  & m83-1 & 70\\_0808\\_02 & C & 28.3-28.4 & 04:44:23 & 00:53 & 39 Kft\\\\\n",
      "6  & IRAS 12112+0305 & 08\\_0095\\_07 & C & 54.4-43.4 & 05:38:31 & 01:17 & 39/35/41 Kft\\\\\n",
      "7  & NGC6946\\_Nuc & 09\\_0198\\_01 & B & 32.6-44.5 & 07:00:08 & 01:45 & 41/75/43 Kft\\\\\n",
      "8  & Sgr A & 71\\_0024\\_14 & C & 30.3-31.1 & 08:51:17 & 00:54 & 43 Kft\\\\\n",
      "9  & Mrk 0290 & 08\\_0226\\_04 & D & 54.8-42.1 & 09:49:34 & 01:35 & 43 Kft\\\\\n",
      "10 & Arrival &  &  &  & 11:26:29 & 00:45 & 43 Kft\\\\\n"
     ]
    }
   ],
   "source": [
    "from fififly.flightplan import startDescription, writeLatex, runLatex\n",
    "aorfile = '../test/202105_FI_MAXINE_WX36'\n",
    "cycle = 'OC8M'\n",
    "\n",
    "# Create description json file\n",
    "startDescription(aorfile)\n",
    "\n",
    "# Create latex file\n",
    "writeLatex(aorfile, cycle)\n",
    "\n",
    "# Compile latex file and create pdf file\n",
    "runLatex(aorfile)"
   ]
  },
  {
   "cell_type": "code",
   "execution_count": 3,
   "id": "5116f24c",
   "metadata": {},
   "outputs": [
    {
     "name": "stdout",
     "output_type": "stream",
     "text": [
      "['OB_70_0808_02', 'OB_08_0095_07', 'OB_09_0198_01', 'OB_71_0024_14', 'OB_08_0226_04']\n"
     ]
    }
   ],
   "source": [
    "import json\n",
    "with open('../test/MAXINE.json', 'r') as jf:\n",
    "    data = json.load(jf)\n",
    "    \n",
    "print(data['ObsBlocks'])"
   ]
  },
  {
   "cell_type": "markdown",
   "id": "0f9cedf8",
   "metadata": {},
   "source": [
    "# Retrieve DSS2 image\n",
    "\n",
    "Using skyview retrieve image from DSS2 (red) and save to a file.\n",
    "This can be done with coordinates or source name (it's better to use coordinates).\n",
    "The field width and heigth should be specified."
   ]
  },
  {
   "cell_type": "code",
   "execution_count": 28,
   "id": "3c1e3938",
   "metadata": {},
   "outputs": [],
   "source": [
    "from astroquery.skyview import SkyView\n",
    "from astropy import units as u\n",
    "paths = SkyView.get_images(position='M 82', survey='DSS2 Red', pixels=1000,width=0.25*u.deg, height=0.25*u.deg)\n",
    "paths[0].writeto('../test/M82.fits', overwrite=True)"
   ]
  },
  {
   "cell_type": "code",
   "execution_count": 30,
   "id": "a6df98f4",
   "metadata": {},
   "outputs": [],
   "source": [
    "# Example (08_0095 - obsBlock 01 - ra=15.582570666666667, dec=23.50314)\n",
    "paths = SkyView.get_images(position='233.738559, 15.5825706', survey='DSS2 Red', pixels=1000, width=0.25*u.deg, height=0.25*u.deg)\n",
    "paths[0].writeto('../test/test.fits', overwrite=True)"
   ]
  },
  {
   "cell_type": "code",
   "execution_count": null,
   "id": "9e40d878",
   "metadata": {},
   "outputs": [],
   "source": []
  }
 ],
 "metadata": {
  "kernelspec": {
   "display_name": "Python 3",
   "language": "python",
   "name": "python3"
  },
  "language_info": {
   "codemirror_mode": {
    "name": "ipython",
    "version": 3
   },
   "file_extension": ".py",
   "mimetype": "text/x-python",
   "name": "python",
   "nbconvert_exporter": "python",
   "pygments_lexer": "ipython3",
   "version": "3.7.10"
  }
 },
 "nbformat": 4,
 "nbformat_minor": 5
}
